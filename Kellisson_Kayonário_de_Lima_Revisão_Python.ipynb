{
  "nbformat": 4,
  "nbformat_minor": 0,
  "metadata": {
    "colab": {
      "name": "Kellisson Kayonário de Lima - Revisão Python",
      "provenance": [],
      "collapsed_sections": [],
      "include_colab_link": true
    },
    "kernelspec": {
      "name": "python3",
      "display_name": "Python 3"
    },
    "language_info": {
      "name": "python"
    }
  },
  "cells": [
    {
      "cell_type": "markdown",
      "metadata": {
        "id": "view-in-github",
        "colab_type": "text"
      },
      "source": [
        "<a href=\"https://colab.research.google.com/github/kellissonlima/proc-sinais-20212/blob/main/Kellisson_Kayon%C3%A1rio_de_Lima_Revis%C3%A3o_Python.ipynb\" target=\"_parent\"><img src=\"https://colab.research.google.com/assets/colab-badge.svg\" alt=\"Open In Colab\"/></a>"
      ]
    },
    {
      "cell_type": "markdown",
      "metadata": {
        "id": "xfREhpeosaXy"
      },
      "source": [
        "# Revisão de Python para PSB"
      ]
    },
    {
      "cell_type": "markdown",
      "metadata": {
        "id": "-dtsxW_FsngM"
      },
      "source": [
        "# Questão 1\n",
        "\n",
        "A função `normal(size=n)` do modulo `random` do numpy cria `n` números aleatórios seguindo uma distribuição normal. Sabendo o uso dessa função faça:\n",
        "\n",
        "1. Crie um array 1000 números aleatórios usando essa função.\n",
        "2. Plote os números usando o ponto como marcador.\n",
        "3. Faça o histograma do array.\n",
        "4. Calcule a média e o desvio padrão do array.\n",
        "5. Percorra o array e identifique quais pontos são maiores que a média mais duas vezes o desvio padrão. Armazene esses pontos em uma lista.\n",
        "6. Calcule a média e o desvio padrão dos pontos armazenados na lista\n"
      ]
    },
    {
      "cell_type": "code",
      "metadata": {
        "id": "Ia_aHRaWYOvt"
      },
      "source": [
        "import numpy as np\n",
        "from numpy import random\n",
        "from matplotlib import pyplot as plt "
      ],
      "execution_count": null,
      "outputs": []
    },
    {
      "cell_type": "code",
      "metadata": {
        "colab": {
          "base_uri": "https://localhost:8080/",
          "height": 282
        },
        "id": "BTJgLRT_tMUG",
        "outputId": "184ad118-9721-4f65-8ef2-48c4a653f4ca"
      },
      "source": [
        "nAle = random.normal(size=1000)\n",
        "x = np.arange(0,100) \n",
        "plt.plot(x,'.')"
      ],
      "execution_count": null,
      "outputs": [
        {
          "output_type": "execute_result",
          "data": {
            "text/plain": [
              "[<matplotlib.lines.Line2D at 0x7f82cdbfc850>]"
            ]
          },
          "metadata": {},
          "execution_count": 2
        },
        {
          "output_type": "display_data",
          "data": {
            "image/png": "[encoded data removed]",
            "text/plain": [
              "<Figure size 432x288 with 1 Axes>"
            ]
          },
          "metadata": {
            "needs_background": "light"
          }
        }
      ]
    },
    {
      "cell_type": "code",
      "metadata": {
        "colab": {
          "base_uri": "https://localhost:8080/",
          "height": 317
        },
        "id": "ZHHc6VMgtPHd",
        "outputId": "cfe648aa-9fa6-4135-d1ab-42c834eb302c"
      },
      "source": [
        "plt.hist(nAle, bins = [0,1,1.5,2,2.5])"
      ],
      "execution_count": null,
      "outputs": [
        {
          "output_type": "execute_result",
          "data": {
            "text/plain": [
              "(array([338.,  91.,  38.,  15.]),\n",
              " array([0. , 1. , 1.5, 2. , 2.5]),\n",
              " <a list of 4 Patch objects>)"
            ]
          },
          "metadata": {},
          "execution_count": 3
        },
        {
          "output_type": "display_data",
          "data": {
            "image/png": "[encoded data removed]",
            "text/plain": [
              "<Figure size 432x288 with 1 Axes>"
            ]
          },
          "metadata": {
            "needs_background": "light"
          }
        }
      ]
    },
    {
      "cell_type": "code",
      "metadata": {
        "colab": {
          "base_uri": "https://localhost:8080/"
        },
        "id": "RjUtyj6_tWNz",
        "outputId": "ac50c233-10ab-4fed-b14e-ed85063b50cb"
      },
      "source": [
        "print('A média dos valores do Array é: %.3f'%np.mean(nAle))\n",
        "print('O desvio padrão dos valores do Array é: %.4f'%np.std(nAle))"
      ],
      "execution_count": null,
      "outputs": [
        {
          "output_type": "stream",
          "name": "stdout",
          "text": [
            "A média dos valores do Array é: -0.057\n",
            "O desvio padrão dos valores do Array é: 0.9749\n"
          ]
        }
      ]
    },
    {
      "cell_type": "code",
      "metadata": {
        "colab": {
          "base_uri": "https://localhost:8080/"
        },
        "id": "YauM2LN4tZKj",
        "outputId": "a6a796cd-e37b-4a10-9e7d-9fa6a8b0bfe1"
      },
      "source": [
        "med = np.mean(nAle)\n",
        "desvP = np.std(nAle)\n",
        "number2x = []\n",
        "for n in nAle:\n",
        "  if (n > med) and (n > desvP*2):\n",
        "    number2x.append(n) \n",
        "print(number2x)"
      ],
      "execution_count": null,
      "outputs": [
        {
          "output_type": "stream",
          "name": "stdout",
          "text": [
            "[2.2323548696280415, 2.3224417340783705, 2.0456218084281055, 2.2179789119091744, 1.9518405880123377, 2.0955005989253985, 2.0683263641063605, 2.1931854003556777, 2.032839988044891, 2.047815317242441, 2.1573266021951913, 2.832793815922662, 2.0290511818797166, 2.4165665333242043, 2.5333464848056897, 2.8730425719835706, 2.253963365880907, 2.3118313542849296, 2.378197200238686, 1.9899521381810379]\n"
          ]
        }
      ]
    },
    {
      "cell_type": "code",
      "metadata": {
        "colab": {
          "base_uri": "https://localhost:8080/"
        },
        "id": "WRciewPUtb8c",
        "outputId": "495bbaca-9f85-4b3e-fa86-737f7fd2f1fc"
      },
      "source": [
        "print('A média dos valores da Lista é: %.3f'%np.mean(number2x))\n",
        "print('O desvio padrão dos valores da Lista é: %.4f'%np.std(number2x))"
      ],
      "execution_count": null,
      "outputs": [
        {
          "output_type": "stream",
          "name": "stdout",
          "text": [
            "A média dos valores da Lista é: 2.249\n",
            "O desvio padrão dos valores da Lista é: 0.2516\n"
          ]
        }
      ]
    },
    {
      "cell_type": "markdown",
      "metadata": {
        "id": "FVdryEuWXNoU"
      },
      "source": [
        "# Questão 2\n",
        "\n",
        "Um tipo de experimento comum é submeter uma pessoa a algum estímulo enquanto se regsitra algum sinal eletrofisiológico. Nesse tipo de experimento, geralmente estamos interessados em analisar uma certa quantidade de pontos antes e depois do estímulo ser apresentado. Cada corte antes e depois do estímulo é chamado de *trial*.\n",
        "\n",
        "Gere agora 12000 pontos usando a função `normal`. Esses 12000 pontos vão representar nosso sinal.\n",
        "\n",
        "1. Crie um array com 10 linhas, onde cada linha vai conter 500 pontos antes e depois de um certo evento, ou seja esse array deve ter dimensão 10x1000. \n",
        "\n",
        "Os eventos aconteceram nos índices: 1000, 2000, 3000, 4000, 5000, 6000, 7000, 8000, 9000 e 10000. \n",
        "\n",
        "Cada linha desse array é um *trial*. \n",
        "\n",
        "2. Calcule a média e desvio padrão para cada uma das 10 linhas da matriz nova. \n",
        "\n",
        "3. Calcule o trial médio que vai ter tamanho 1x1000 e depois sua média e desvio padrão."
      ]
    },
    {
      "cell_type": "code",
      "metadata": {
        "id": "3dehd-bvtebp"
      },
      "source": [
        "## Questão 02\n",
        "arrPri = np.empty((10,1000))\n",
        "sinal = random.normal(size=12000)\n",
        "linha,coluna = arrPri.shape\n",
        "for i in range(linha):\n",
        "#   print('valor i: %d e k: %d'%(p,k))\n",
        "  for j in range(coluna):\n",
        "    if(i==0):\n",
        "      if(j<500):\n",
        "        # for inf in range(len(sinal)):\n",
        "        arrPri[i][j] = sinal[j]\n",
        "\n",
        "      if((j>=500) and (j<=1000)):\n",
        "        arrPri[i][j] = sinal[j]\n",
        "    if(i==1):\n",
        "        if(j<500):\n",
        "            arrPri[i][j]=sinal[j]\n",
        "\n",
        "        if((j>=500) and (j<=1000)):\n",
        "            arrPri[i][j]=sinal[j]\n",
        "    if(i==2):\n",
        "        if(j<500):\n",
        "            arrPri[i][j]=sinal[j]\n",
        "\n",
        "        if((j>=500) and (j<=1000)):\n",
        "            arrPri[i][j]=sinal[j]\n",
        "    if(i==3):\n",
        "        if(j<500):\n",
        "            arrPri[i][j]=sinal[j]\n",
        "\n",
        "        if((j>=500) and (j<=1000)):\n",
        "            arrPri[i][j]=sinal[j]\n",
        "    if(i==4):\n",
        "        if(j<500):\n",
        "            arrPri[i][j]=sinal[j]\n",
        "\n",
        "        if((j>=500) and (j<=1000)):\n",
        "            arrPri[i][j]=sinal[j]\n",
        "    if(i==5):\n",
        "        if(j<500):\n",
        "            arrPri[i][j]=sinal[j]\n",
        "\n",
        "        if((j>=500) and (j<=1000)):\n",
        "            arrPri[i][j]=sinal[j]\n",
        "    if(i==6):\n",
        "        if(j<500):\n",
        "            arrPri[i][j]=sinal[j]\n",
        "\n",
        "        if((j>=500) and (j<=1000)):\n",
        "            arrPri[i][j]=sinal[j]\n",
        "    if(i==7):\n",
        "        if(j<500):\n",
        "            arrPri[i][j]=sinal[j]\n",
        "\n",
        "        if((j>=500) and (j<=1000)):\n",
        "            arrPri[i][j]=sinal[j]\n",
        "    if(i==8):\n",
        "        if(j<500):\n",
        "            arrPri[i][j]=sinal[j]\n",
        "\n",
        "        if((j>=500) and (j<=1000)):\n",
        "            arrPri[i][j]=sinal[j]\n",
        "    if(i==9):\n",
        "        if(j<500):\n",
        "            arrPri[i][j]=sinal[j]\n",
        "\n",
        "        if((j>=500) and (j<=1000)):\n",
        "            arrPri[i][j]=sinal[j]\n",
        "    if(i==10):\n",
        "        if(j<500):\n",
        "            arrPri[i][j]=sinal[j]\n",
        "\n",
        "        if((j>=500) and (j<=1000)):\n",
        "            arrPri[i][j]=sinal[j]"
      ],
      "execution_count": null,
      "outputs": []
    },
    {
      "cell_type": "code",
      "metadata": {
        "colab": {
          "base_uri": "https://localhost:8080/"
        },
        "id": "_iVKiyFntiPm",
        "outputId": "bbed8401-95b9-4267-e35c-52a5d3601780"
      },
      "source": [
        "#print(arrPri.shape)\n",
        "armMed=[]\n",
        "armDesvP=[]\n",
        "vTrial = arrPri[0][:]\n",
        "for i in range(10):\n",
        "  vTrial = arrPri[i][:]\n",
        "  medTrial = np.mean(vTrial)\n",
        "  desvPTrial = np.std(vTrial)\n",
        "  armMed.append(medTrial)\n",
        "  armDesvP.append(desvPTrial)\n",
        "  print('Média do Trial %d000 > %.4f'%(i+1,medTrial))\n",
        "  print('Des. Padrão do Trial %d000 > %.4f'%(i+1,desvPTrial))\n",
        "  print('==================================================')"
      ],
      "execution_count": null,
      "outputs": [
        {
          "output_type": "stream",
          "name": "stdout",
          "text": [
            "Média do Trial 1000 > -0.0234\n",
            "Des. Padrão do Trial 1000 > 0.9471\n",
            "==================================================\n",
            "Média do Trial 2000 > -0.0234\n",
            "Des. Padrão do Trial 2000 > 0.9471\n",
            "==================================================\n",
            "Média do Trial 3000 > -0.0234\n",
            "Des. Padrão do Trial 3000 > 0.9471\n",
            "==================================================\n",
            "Média do Trial 4000 > -0.0234\n",
            "Des. Padrão do Trial 4000 > 0.9471\n",
            "==================================================\n",
            "Média do Trial 5000 > -0.0234\n",
            "Des. Padrão do Trial 5000 > 0.9471\n",
            "==================================================\n",
            "Média do Trial 6000 > -0.0234\n",
            "Des. Padrão do Trial 6000 > 0.9471\n",
            "==================================================\n",
            "Média do Trial 7000 > -0.0234\n",
            "Des. Padrão do Trial 7000 > 0.9471\n",
            "==================================================\n",
            "Média do Trial 8000 > -0.0234\n",
            "Des. Padrão do Trial 8000 > 0.9471\n",
            "==================================================\n",
            "Média do Trial 9000 > -0.0234\n",
            "Des. Padrão do Trial 9000 > 0.9471\n",
            "==================================================\n",
            "Média do Trial 10000 > -0.0234\n",
            "Des. Padrão do Trial 10000 > 0.9471\n",
            "==================================================\n"
          ]
        }
      ]
    },
    {
      "cell_type": "code",
      "metadata": {
        "id": "3Ta_Ziq2tl72"
      },
      "source": [
        ""
      ],
      "execution_count": null,
      "outputs": []
    },
    {
      "cell_type": "markdown",
      "metadata": {
        "id": "dwk0Tidqajid"
      },
      "source": [
        "# Questão 3\n",
        "\n",
        "O comando do numpy `linspace(start, stop, num)` cria uma quantidade de pontos igual a `num` no intervalo entre `start` e `stop`. Use a função `normal`  para gerar 500 pontos e salve em uma variável chamada `data` e depois responda as questões abaixo.\n",
        "\n",
        "1. Use `linspace()` para gerar 501 pontos entre 0 e 100 e armazene em uma variável chamada `f`.\n",
        "2. Crie uma função que recebe 3 parâmetros: start, end e array. A função deve retornar os dois índices de onde o valor mais próximo de start e end foram encontrados no array.\n",
        "3. Usando a função criada no passo anterior, encontre os índices do array `f` onde o start é igual a 1 e o end é igual a 4. Repita esse passo para start e end iguais a (4, 12) e (12, 30).\n",
        "4. Usando os indíces de cada intervalo calcule a média e o desvio padrão para cada intervalo de indices da variável `data`.\n",
        "5. Crie um gráfico de barras para plotar a média dos 3 intervalos. Use o desvio padrão para mostrar a barra de erro de cada barra."
      ]
    },
    {
      "cell_type": "code",
      "metadata": {
        "id": "V2vlBftUaVyW"
      },
      "source": [
        "data = random.normal(size=500)#500\n",
        "f = np.linspace(0, 100, num = 501)\n",
        "#arrayGeral = np.random.random(10)"
      ],
      "execution_count": null,
      "outputs": []
    },
    {
      "cell_type": "code",
      "metadata": {
        "id": "0Q4WGbkttsYP"
      },
      "source": [
        "#modo mais hardcore\n",
        "  # for i in range(len(sup1)):\n",
        "  #   print(i)\n",
        "  #   sub.append(np.abs(sup1[i]-arrPy[star]))\n",
        "  #   print(np.abs(sup1[i]-arrPy[star]))\n",
        "  # if(len(sup1)==len(sub)):\n",
        "  #   print('mesmo comprimento')\n",
        "  #   vProxD = np.argmin(sub)\n",
        "  \n",
        "  #return (sup1[vProxD],vProxD)#passando o valor e o indice\n",
        "  #return (sup1[minSupD],minSupD),(sup2[minSupE],minSupE)#passando o valor e o indice\n",
        "  # model = np.array(res)\n",
        "minSupD = []\n",
        "minSupE = []\n",
        "minSup = []\n",
        "sup1=[]\n",
        "sup2=[]\n",
        "minSupDEnd = []\n",
        "minSupEEnd = []\n",
        "minSupEnd = []\n",
        "sup1End=[]\n",
        "sup2End=[]\n",
        "def retornaIndices(star,end,array):\n",
        "    arrPy = np.asarray(array)\n",
        "    #print(arrPy)\n",
        "    #print('')\n",
        "    sup1= arrPy[(star+1):] #Do valor a direita\n",
        "    sup2 = arrPy[:star] #do valor a esquerda\n",
        "    #print('Do valor a direita de Star: \\n',sup1)\n",
        "    #print('')\n",
        "    #print('Do valor a esquerda de Star: \\n',sup2)\n",
        "    #print('')\n",
        "    minSupD = np.argmin(np.abs(sup1-arrPy[star])) #modo mais compacto\n",
        "    minSupE = np.argmin(np.abs(sup2-arrPy[star]))\n",
        "    # print('Menor próximo Lado Direito Start',minSupD)\n",
        "    # print('Menos Próximo lado Esquerdo Start',minSupE)\n",
        "    minSup.append([sup1[minSupD],minSupD])\n",
        "    minSup.append([sup2[minSupE],minSupE])\n",
        "    #print(minSup)\n",
        "    #print('-----')\n",
        "    res = min(minSup)\n",
        "    #print('menor valor para Start: ',res)\n",
        "    #print('---------')\n",
        "\n",
        "    sup1End= arrPy[(end+1):] #Do valor a direita\n",
        "    sup2End = arrPy[:end] #do valor a esquerda\n",
        "    #print('Do valor a direita End: \\n',sup1End)\n",
        "    # print(len(sup1))\n",
        "    #print('')\n",
        "    #print('Do valor a esquerda End: \\n',sup2End)\n",
        "    #print('')\n",
        "    minSupDEnd = np.argmin(np.abs(sup1End-arrPy[end])) #modo mais compacto\n",
        "    minSupEEnd = np.argmin(np.abs(sup2End-arrPy[end]))\n",
        "    # print('Menor próximo Lado Direito ',minSupDEnd)\n",
        "    # print('Menos Próximo lado Esquerdo',minSupEEnd)\n",
        "    minSupEnd.append([sup1End[minSupDEnd],minSupDEnd])\n",
        "    minSupEnd.append([sup2End[minSupEEnd],minSupEEnd])\n",
        "    #print(minSupEnd)\n",
        "    #print('-----')\n",
        "    resEnd = min(minSupEnd)\n",
        "    #print('menor valor para End: ',resEnd)\n",
        "    #print('------')\n",
        "    #print(type(res))\n",
        "    test = arrPy.tolist()\n",
        "    print(res[0])\n",
        "    print(resEnd[0])\n",
        "    print(test.index(res[0]))\n",
        "    print(test.index(resEnd[0]))\n",
        "    print(res[1],resEnd[1])  \n",
        "    return (test.index(res[0]),test.index(resEnd[0]))"
      ],
      "execution_count": null,
      "outputs": []
    },
    {
      "cell_type": "code",
      "metadata": {
        "colab": {
          "base_uri": "https://localhost:8080/"
        },
        "id": "nagDa8VytyHn",
        "outputId": "85500d41-6d01-4cbd-cf33-93fe1d12e523"
      },
      "source": [
        "print('Teste da função')\n",
        "data.size\n",
        "rcbFunc=retornaIndices(2,5,data)\n",
        "print('Dados data ::: O indíce mais proximo de Start é: ',rcbFunc[0])\n",
        "print('Dados data ::: O indíce mais proximo de End é: ',rcbFunc[1])"
      ],
      "execution_count": null,
      "outputs": [
        {
          "output_type": "stream",
          "name": "stdout",
          "text": [
            "Teste da função\n",
            "0.11985106355522432\n",
            "0.9627307620892188\n",
            "1\n",
            "136\n",
            "1 130\n",
            "Dados data ::: O indíce mais proximo de Start é:  1\n",
            "Dados data ::: O indíce mais proximo de End é:  136\n"
          ]
        }
      ]
    },
    {
      "cell_type": "code",
      "metadata": {
        "colab": {
          "base_uri": "https://localhost:8080/"
        },
        "id": "N68MPIQkt1B0",
        "outputId": "8ed5f08c-f7af-4c0b-dd00-a55e35aa9f03"
      },
      "source": [
        "caixa = []\n",
        "caixa.append(rcbFunc[0])\n",
        "caixa.append(rcbFunc[1])\n",
        "minInd = min(caixa)\n",
        "maxInd = max(caixa)\n",
        "dataReal = data[minInd:maxInd]\n",
        "print('Dados data ::: Média para primeiro intervalo: ', np.mean(data[minInd:maxInd+1]))\n",
        "print('Dados data ::: Desv. Padrão para primeiro intervalo: ',np.std(data[minInd:maxInd+1]))"
      ],
      "execution_count": null,
      "outputs": [
        {
          "output_type": "stream",
          "name": "stdout",
          "text": [
            "Dados data ::: Média para primeiro intervalo:  0.14667646659920192\n",
            "Dados data ::: Desv. Padrão para primeiro intervalo:  0.9655970227873472\n"
          ]
        }
      ]
    },
    {
      "cell_type": "code",
      "metadata": {
        "colab": {
          "base_uri": "https://localhost:8080/"
        },
        "id": "n2PFusLyt4Q2",
        "outputId": "97791306-3e5d-4a00-b134-84a0f05c81a3"
      },
      "source": [
        "rcbFunc1Data=retornaIndices(1,4,data)\n",
        "print('Dados data ::: O indíce mais proximo de Start é: ',rcbFunc1Data[0])\n",
        "print('Dados data ::: O indíce mais proximo de End é: ',rcbFunc1Data[1])"
      ],
      "execution_count": null,
      "outputs": [
        {
          "output_type": "stream",
          "name": "stdout",
          "text": [
            "-0.7732014900449621\n",
            "-0.7732014900449621\n",
            "363\n",
            "363\n",
            "358 358\n",
            "Dados data ::: O indíce mais proximo de Start é:  363\n",
            "Dados data ::: O indíce mais proximo de End é:  363\n"
          ]
        }
      ]
    },
    {
      "cell_type": "code",
      "metadata": {
        "colab": {
          "base_uri": "https://localhost:8080/"
        },
        "id": "wmxpSbU1uGiA",
        "outputId": "4e2e731b-33da-4651-fe6b-7e2640b6caef"
      },
      "source": [
        "caixa1 = []\n",
        "caixa1.append(rcbFunc1Data[0])\n",
        "caixa1.append(rcbFunc1Data[1])\n",
        "minInd = min(caixa1)\n",
        "maxInd = max(caixa1)\n",
        "a1 = np.mean(data[minInd:maxInd+1])\n",
        "b1 = np.std(data[minInd:maxInd+1])\n",
        "print('Dados data ::: Média para Segundo intervalo: ',a1)\n",
        "print('Dados data ::: Desv. Padrão para Segundo intervalo: ',b1)"
      ],
      "execution_count": null,
      "outputs": [
        {
          "output_type": "stream",
          "name": "stdout",
          "text": [
            "Dados data ::: Média para Segundo intervalo:  -0.7732014900449621\n",
            "Dados data ::: Desv. Padrão para Segundo intervalo:  0.0\n"
          ]
        }
      ]
    },
    {
      "cell_type": "code",
      "metadata": {
        "colab": {
          "base_uri": "https://localhost:8080/"
        },
        "id": "d5TSAq4duKuN",
        "outputId": "54f490b9-61e5-41ca-b8bf-15f9ebe30ae8"
      },
      "source": [
        "rcbFunc2Data=retornaIndices(4,12,data)\n",
        "print('Dados data ::: O indíce mais proximo de Start é: ',rcbFunc2Data[0])\n",
        "print('Dados data ::: O indíce mais proximo de End é: ',rcbFunc2Data[1])"
      ],
      "execution_count": null,
      "outputs": [
        {
          "output_type": "stream",
          "name": "stdout",
          "text": [
            "-0.7732014900449621\n",
            "-0.7732014900449621\n",
            "363\n",
            "363\n",
            "358 358\n",
            "Dados data ::: O indíce mais proximo de Start é:  363\n",
            "Dados data ::: O indíce mais proximo de End é:  363\n"
          ]
        }
      ]
    },
    {
      "cell_type": "code",
      "metadata": {
        "colab": {
          "base_uri": "https://localhost:8080/"
        },
        "id": "IOktL7n8uOQ2",
        "outputId": "9cce9cb2-03b7-40ff-96f3-726995cbd9ea"
      },
      "source": [
        "caixa2 = []\n",
        "caixa2.append(rcbFunc2Data[0])\n",
        "caixa2.append(rcbFunc2Data[1])\n",
        "minInd = min(caixa2)\n",
        "maxInd = max(caixa2)\n",
        "a2 = np.mean(data[minInd:maxInd+1])\n",
        "b2 = np.std(data[minInd:maxInd+1])\n",
        "print('Dados data ::: Média para Segundo intervalo: ',a2)\n",
        "print('Dados data ::: Desv. Padrão para Segundo intervalo: ',b2)"
      ],
      "execution_count": null,
      "outputs": [
        {
          "output_type": "stream",
          "name": "stdout",
          "text": [
            "Dados data ::: Média para Segundo intervalo:  -0.7732014900449621\n",
            "Dados data ::: Desv. Padrão para Segundo intervalo:  0.0\n"
          ]
        }
      ]
    },
    {
      "cell_type": "code",
      "metadata": {
        "colab": {
          "base_uri": "https://localhost:8080/"
        },
        "id": "GTGBJ6usuSS0",
        "outputId": "44514fed-f14d-40f1-ffe3-54ad769a0471"
      },
      "source": [
        "rcbFunc3Data=retornaIndices(12,30,data)\n",
        "print('Dados data ::: O indíce mais proximo de Start é: ',rcbFunc3Data[0])\n",
        "print('Dados data ::: O indíce mais proximo de End é: ',rcbFunc3Data[1])"
      ],
      "execution_count": null,
      "outputs": [
        {
          "output_type": "stream",
          "name": "stdout",
          "text": [
            "-0.7732014900449621\n",
            "-0.7732014900449621\n",
            "363\n",
            "363\n",
            "358 358\n",
            "Dados data ::: O indíce mais proximo de Start é:  363\n",
            "Dados data ::: O indíce mais proximo de End é:  363\n"
          ]
        }
      ]
    },
    {
      "cell_type": "code",
      "metadata": {
        "colab": {
          "base_uri": "https://localhost:8080/"
        },
        "id": "QiFVrSxquVmt",
        "outputId": "269b0614-4126-4597-f488-72dd590fd4fc"
      },
      "source": [
        "caixa3 = []\n",
        "caixa3.append(rcbFunc3Data[0])\n",
        "caixa3.append(rcbFunc3Data[1])\n",
        "minInd = min(caixa3)\n",
        "maxInd = max(caixa3)\n",
        "a3 = np.mean(data[minInd:maxInd+1])\n",
        "b3 = np.std(data[minInd:maxInd+1])\n",
        "print('Dados data ::: Média para Segundo intervalo: ',a3)\n",
        "print('Dados data ::: Desv. Padrão para Segundo intervalo: ',b3)"
      ],
      "execution_count": null,
      "outputs": [
        {
          "output_type": "stream",
          "name": "stdout",
          "text": [
            "Dados data ::: Média para Segundo intervalo:  -0.7732014900449621\n",
            "Dados data ::: Desv. Padrão para Segundo intervalo:  0.0\n"
          ]
        }
      ]
    },
    {
      "cell_type": "code",
      "metadata": {
        "colab": {
          "base_uri": "https://localhost:8080/",
          "height": 371
        },
        "id": "CCD6cAFYu7mE",
        "outputId": "7dc9010e-fe52-426a-f9b3-307471fbeb78"
      },
      "source": [
        "grupos = ['Intervalo 1', 'Intervalo 2', 'Intervalo 3']\n",
        "valores = [a1, a2, a3]\n",
        "desvioP = [b1,b2,b3]\n",
        "x1 =  np.arange(len(valores))\n",
        "x2 = [x + 0.25 for x in x1]\n",
        "plt.bar(x1, valores, width=0.25, label = 'Média', color = 'b')\n",
        "plt.bar(x2, desvioP, width=0.25, label = 'Desvio Padrão', color = 'y')\n",
        "plt.xticks([x + 0.25 for x in range(len(valores))], grupos)"
      ],
      "execution_count": null,
      "outputs": [
        {
          "output_type": "execute_result",
          "data": {
            "text/plain": [
              "([<matplotlib.axis.XTick at 0x7f82c9337b50>,\n",
              "  <matplotlib.axis.XTick at 0x7f82c9337b10>,\n",
              "  <matplotlib.axis.XTick at 0x7f82c93376d0>],\n",
              " [Text(0, 0, 'Intervalo 1'),\n",
              "  Text(0, 0, 'Intervalo 2'),\n",
              "  Text(0, 0, 'Intervalo 3')])"
            ]
          },
          "metadata": {},
          "execution_count": 31
        },
        {
          "output_type": "display_data",
          "data": {
            "image/png": "[encoded data removed]",
            "text/plain": [
              "<Figure size 432x288 with 1 Axes>"
            ]
          },
          "metadata": {
            "needs_background": "light"
          }
        }
      ]
    },
    {
      "cell_type": "code",
      "metadata": {
        "id": "IYojwmdv0V-2"
      },
      "source": [
        ""
      ],
      "execution_count": null,
      "outputs": []
    }
  ]
}